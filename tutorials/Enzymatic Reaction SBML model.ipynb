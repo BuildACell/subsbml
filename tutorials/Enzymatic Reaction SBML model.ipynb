{
 "cells": [
  {
   "cell_type": "markdown",
   "metadata": {},
   "source": [
    "# Creating SBML Models\n",
    "## Enzymatic Reaction SBML Model\n",
    "\n",
    "Refer to the [SBML webpage](http://sbml.org/More_Detailed_Summary_of_SBML) for more information about the model and about SBML.\n",
    "\n",
    "Refer to [this](https://github.com/BuildACell/txtlsim-python/blob/master/BioSIMI-Python/tutorial_modeling.ipynb) ipython jupyter notebook for a detailed tutorial on using SimpleModel and SimpleReaction classes to create models. "
   ]
  },
  {
   "cell_type": "code",
   "execution_count": 2,
   "metadata": {},
   "outputs": [],
   "source": [
    "from subsbml import *\n",
    "\n",
    "# Create a new subsystem to hold the model\n",
    "ss1 = createNewSubsystem()\n",
    "model_obj = ss1.createNewModel('EnzymaticReaction','second','mole','count')\n",
    "# Create a new SimpleModel object\n",
    "model = SimpleModel(model_obj)"
   ]
  },
  {
   "cell_type": "code",
   "execution_count": 3,
   "metadata": {},
   "outputs": [
    {
     "data": {
      "text/plain": [
       "<Compartment cytosol \"cytosol\">"
      ]
     },
     "execution_count": 3,
     "metadata": {},
     "output_type": "execute_result"
    }
   ],
   "source": [
    "# Create units\n",
    "\n",
    "model.createNewUnitDefinition('per_second',libsbml.UNIT_KIND_SECOND,-1)\n",
    "model.createNewUnitDefinition('litre_per_mole_per_second', [libsbml.UNIT_KIND_MOLE, libsbml.UNIT_KIND_LITRE, libsbml.UNIT_KIND_SECOND],[-1,1,-1])\n",
    "model.createNewUnitDefinition('mole_per_litre', [libsbml.UNIT_KIND_MOLE, libsbml.UNIT_KIND_LITRE],[1,-1])\n",
    "\n",
    "\n",
    "#Create compartment\n",
    "model.createNewCompartment('cytosol','cytosol',1e-14,'litre')"
   ]
  },
  {
   "cell_type": "code",
   "execution_count": 4,
   "metadata": {},
   "outputs": [
    {
     "data": {
      "text/plain": [
       "[<Parameter kon \"kon\">]"
      ]
     },
     "execution_count": 4,
     "metadata": {},
     "output_type": "execute_result"
    }
   ],
   "source": [
    "#Create all species\n",
    "model.createNewSpecies(['ES','E','P','S'],'cytosol',[0,5e-21,0,1e-20], False,'mole_per_litre')\n",
    "\n",
    "# Create all parameters\n",
    "model.createNewParameter(['koff','kcat'],[0.2,1000],True, 'per_second')\n",
    "\n",
    "model.createNewParameter('kon',100000, True, 'litre_per_mole_per_second')"
   ]
  },
  {
   "cell_type": "code",
   "execution_count": 5,
   "metadata": {},
   "outputs": [
    {
     "data": {
      "text/plain": [
       "<Reaction vcat \"vcat\">"
      ]
     },
     "execution_count": 5,
     "metadata": {},
     "output_type": "execute_result"
    }
   ],
   "source": [
    "# Create all reactions\n",
    "\n",
    "model.createSimpleReaction('veq','E + S <-> ES','cytosol * kon*E*S - cytosol* koff*ES',False)\n",
    "model.createSimpleReaction('vcat','ES --> E + P','cytosol*kcat*ES',False)"
   ]
  },
  {
   "cell_type": "code",
   "execution_count": 6,
   "metadata": {},
   "outputs": [
    {
     "name": "stdout",
     "output_type": "stream",
     "text": [
      "<model id=\"EnzymaticReaction\" substanceUnits=\"count\" timeUnits=\"second\" extentUnits=\"mole\">\n",
      "  <listOfUnitDefinitions>\n",
      "    <unitDefinition id=\"per_second\">\n",
      "      <listOfUnits>\n",
      "        <unit kind=\"second\" exponent=\"-1\" scale=\"0\" multiplier=\"1\"/>\n",
      "      </listOfUnits>\n",
      "    </unitDefinition>\n",
      "    <unitDefinition id=\"litre_per_mole_per_second\">\n",
      "      <listOfUnits>\n",
      "        <unit kind=\"mole\" exponent=\"-1\" scale=\"0\" multiplier=\"1\"/>\n",
      "        <unit kind=\"litre\" exponent=\"1\" scale=\"0\" multiplier=\"1\"/>\n",
      "        <unit kind=\"second\" exponent=\"-1\" scale=\"0\" multiplier=\"1\"/>\n",
      "      </listOfUnits>\n",
      "    </unitDefinition>\n",
      "    <unitDefinition id=\"mole_per_litre\">\n",
      "      <listOfUnits>\n",
      "        <unit kind=\"mole\" exponent=\"1\" scale=\"0\" multiplier=\"1\"/>\n",
      "        <unit kind=\"litre\" exponent=\"-1\" scale=\"0\" multiplier=\"1\"/>\n",
      "      </listOfUnits>\n",
      "    </unitDefinition>\n",
      "  </listOfUnitDefinitions>\n",
      "  <listOfCompartments>\n",
      "    <compartment id=\"cytosol\" name=\"cytosol\" spatialDimensions=\"3\" size=\"1e-14\" units=\"litre\" constant=\"true\"/>\n",
      "  </listOfCompartments>\n",
      "  <listOfSpecies>\n",
      "    <species id=\"ES\" name=\"ES\" compartment=\"cytosol\" initialConcentration=\"0\" substanceUnits=\"mole_per_litre\" hasOnlySubstanceUnits=\"false\" boundaryCondition=\"false\" constant=\"false\"/>\n",
      "    <species id=\"E\" name=\"E\" compartment=\"cytosol\" initialConcentration=\"5e-21\" substanceUnits=\"mole_per_litre\" hasOnlySubstanceUnits=\"false\" boundaryCondition=\"false\" constant=\"false\"/>\n",
      "    <species id=\"P\" name=\"P\" compartment=\"cytosol\" initialConcentration=\"0\" substanceUnits=\"mole_per_litre\" hasOnlySubstanceUnits=\"false\" boundaryCondition=\"false\" constant=\"false\"/>\n",
      "    <species id=\"S\" name=\"S\" compartment=\"cytosol\" initialConcentration=\"1e-20\" substanceUnits=\"mole_per_litre\" hasOnlySubstanceUnits=\"false\" boundaryCondition=\"false\" constant=\"false\"/>\n",
      "  </listOfSpecies>\n",
      "  <listOfParameters>\n",
      "    <parameter id=\"koff\" name=\"koff\" value=\"0.2\" units=\"per_second\" constant=\"true\"/>\n",
      "    <parameter id=\"kcat\" name=\"kcat\" value=\"1000\" units=\"per_second\" constant=\"true\"/>\n",
      "    <parameter id=\"kon\" name=\"kon\" value=\"100000\" units=\"litre_per_mole_per_second\" constant=\"true\"/>\n",
      "  </listOfParameters>\n",
      "  <listOfReactions>\n",
      "    <reaction id=\"veq\" name=\"veq\" reversible=\"true\" fast=\"false\">\n",
      "      <listOfReactants>\n",
      "        <speciesReference species=\"E\" stoichiometry=\"1\" constant=\"false\"/>\n",
      "        <speciesReference species=\"S\" stoichiometry=\"1\" constant=\"false\"/>\n",
      "      </listOfReactants>\n",
      "      <listOfProducts>\n",
      "        <speciesReference species=\"ES\" stoichiometry=\"1\" constant=\"false\"/>\n",
      "      </listOfProducts>\n",
      "      <kineticLaw>\n",
      "        <math xmlns=\"http://www.w3.org/1998/Math/MathML\">\n",
      "          <apply>\n",
      "            <minus/>\n",
      "            <apply>\n",
      "              <times/>\n",
      "              <ci> cytosol </ci>\n",
      "              <ci> kon </ci>\n",
      "              <ci> E </ci>\n",
      "              <ci> S </ci>\n",
      "            </apply>\n",
      "            <apply>\n",
      "              <times/>\n",
      "              <ci> cytosol </ci>\n",
      "              <ci> koff </ci>\n",
      "              <ci> ES </ci>\n",
      "            </apply>\n",
      "          </apply>\n",
      "        </math>\n",
      "      </kineticLaw>\n",
      "    </reaction>\n",
      "    <reaction id=\"vcat\" name=\"vcat\" reversible=\"false\" fast=\"false\">\n",
      "      <listOfReactants>\n",
      "        <speciesReference species=\"ES\" stoichiometry=\"1\" constant=\"false\"/>\n",
      "      </listOfReactants>\n",
      "      <listOfProducts>\n",
      "        <speciesReference species=\"E\" stoichiometry=\"1\" constant=\"false\"/>\n",
      "        <speciesReference species=\"P\" stoichiometry=\"1\" constant=\"false\"/>\n",
      "      </listOfProducts>\n",
      "      <kineticLaw>\n",
      "        <math xmlns=\"http://www.w3.org/1998/Math/MathML\">\n",
      "          <apply>\n",
      "            <times/>\n",
      "            <ci> cytosol </ci>\n",
      "            <ci> kcat </ci>\n",
      "            <ci> ES </ci>\n",
      "          </apply>\n",
      "        </math>\n",
      "      </kineticLaw>\n",
      "    </reaction>\n",
      "  </listOfReactions>\n",
      "</model>\n"
     ]
    }
   ],
   "source": [
    "# Print final model\n",
    "print(model.getModel().toSBML())"
   ]
  },
  {
   "cell_type": "code",
   "execution_count": null,
   "metadata": {},
   "outputs": [],
   "source": []
  }
 ],
 "metadata": {
  "kernelspec": {
   "display_name": "Python 3",
   "language": "python",
   "name": "python3"
  },
  "language_info": {
   "codemirror_mode": {
    "name": "ipython",
    "version": 3
   },
   "file_extension": ".py",
   "mimetype": "text/x-python",
   "name": "python",
   "nbconvert_exporter": "python",
   "pygments_lexer": "ipython3",
   "version": "3.7.4"
  }
 },
 "nbformat": 4,
 "nbformat_minor": 2
}
